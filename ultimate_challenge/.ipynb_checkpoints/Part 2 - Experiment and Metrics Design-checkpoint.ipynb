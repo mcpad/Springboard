{
 "cells": [
  {
   "cell_type": "markdown",
   "metadata": {},
   "source": [
    "1. \n",
    "\n",
    "Naturally, an increase in the number of driver partners crossing between the two cities would signal a success in the experiment. Therefore, I would choose the number of drivers who were active in both cities in a given 24 hour period as a measure of the success of the program. This statistic should be available for both before and after the experiment begins, making it easy to perform statistical analysis to see if the experiment caused a meaningful difference in the number of drivers operating accross both of the cities. Another metric that could be used is the number of reimbursements requested by drivers, but this metric does not account for the number of different drivers operating accross both cities, as a single driver could make 10 trips accross the bridge. The success should be measured in number of drivers, not number of trips. Finally, this toll metric would also not be as good at providing a comparison for before and after the experiment began. "
   ]
  },
  {
   "cell_type": "markdown",
   "metadata": {},
   "source": [
    "2. a.\n",
    "\n",
    "Assuming that Ultimate has access to records of all of the pickup and dropoff locations of every drivers rides throughout the day, I would divide the data into before and after the toll bridge reimbursement was implemented. I would choose to look at a peroid of at least a month before and after the reimbursement was implemented to make sure that my data covers enough time that special days, high traffic weeks, or the slow roll out of drivers learning about and taking advantage of the reimbursement would not affect the outcome. Next, I would classify each driver as having crossed between the cities over each 24 hour period or not. My final statistic would be the percent of total drivers who operated in both cities over a 24 hour period, from midnight to midnight each day.  "
   ]
  },
  {
   "cell_type": "markdown",
   "metadata": {},
   "source": [
    "b.\n",
    "\n",
    "For statistical testing, I would start with the null hypothesis that the reimbursement of bridge tolls does not affect the number of drivers operating in both cities over a 24 hour period. To restate in technical terms, the mean of the percent of drivers who operated in both cities before the toll reimbursement would equal the mean of the percent of drivers who operated in both cities after the toll reimbursement. I would then perform bootstrap testing to find the likelihood that the different I found in the percent of drivers operating in both cities before and after the change could be due to statistical fluctuations or if it is significant, looking at the 95% confidence interval and p-value. Hopefully, the p-value found through bootstrapping would be small enough (much less than 0.001) so that my choice of p-value would not cause a type 1 or type 2 error. "
   ]
  },
  {
   "cell_type": "markdown",
   "metadata": {},
   "source": [
    "c.\n",
    "\n",
    "If I found the results to be significant after statistical testing, I would report the program as a success to the city operations team. I would maintain this process of analyzing and testing the data on a regular basis in the following months to make sure that the program continued to be a successful way to incentivize the drivers to operate in both cities. Additionally, I would create extra visualizations of the data depending on the data from Ultimate that I had access to and hopefully be able to point to other factors for the city operations team to consider to further incentivize the drivers."
   ]
  }
 ],
 "metadata": {
  "kernelspec": {
   "display_name": "Python 3",
   "language": "python",
   "name": "python3"
  },
  "language_info": {
   "codemirror_mode": {
    "name": "ipython",
    "version": 3
   },
   "file_extension": ".py",
   "mimetype": "text/x-python",
   "name": "python",
   "nbconvert_exporter": "python",
   "pygments_lexer": "ipython3",
   "version": "3.5.5"
  }
 },
 "nbformat": 4,
 "nbformat_minor": 2
}
