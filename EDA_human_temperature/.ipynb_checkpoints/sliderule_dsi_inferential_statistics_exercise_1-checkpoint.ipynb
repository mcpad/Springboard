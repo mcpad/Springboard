{
 "cells": [
  {
   "cell_type": "markdown",
   "metadata": {},
   "source": [
    "# What is the True Normal Human Body Temperature? \n",
    "\n",
    "#### Background\n",
    "\n",
    "The mean normal body temperature was held to be 37$^{\\circ}$C or 98.6$^{\\circ}$F for more than 120 years since it was first conceptualized and reported by Carl Wunderlich in a famous 1868 book. But, is this value statistically correct?"
   ]
  },
  {
   "cell_type": "markdown",
   "metadata": {},
   "source": [
    "<h3>Exercises</h3>\n",
    "\n",
    "<p>In this exercise, you will analyze a dataset of human body temperatures and employ the concepts of hypothesis testing, confidence intervals, and statistical significance.</p>\n",
    "\n",
    "<p>Answer the following questions <b>in this notebook below and submit to your Github account</b>.</p> \n",
    "\n",
    "<ol>\n",
    "<li>  Is the distribution of body temperatures normal? \n",
    "    <ul>\n",
    "    <li> Although this is not a requirement for the Central Limit Theorem to hold (read the introduction on Wikipedia's page about the CLT carefully: https://en.wikipedia.org/wiki/Central_limit_theorem), it gives us some peace of mind that the population may also be normally distributed if we assume that this sample is representative of the population.\n",
    "    <li> Think about the way you're going to check for the normality of the distribution. Graphical methods are usually used first, but there are also other ways: https://en.wikipedia.org/wiki/Normality_test\n",
    "    </ul>\n",
    "<li>  Is the sample size large? Are the observations independent?\n",
    "    <ul>\n",
    "    <li> Remember that this is a condition for the Central Limit Theorem, and hence the statistical tests we are using, to apply.\n",
    "    </ul>\n",
    "<li>  Is the true population mean really 98.6 degrees F?\n",
    "    <ul>\n",
    "    <li> First, try a bootstrap hypothesis test.\n",
    "    <li> Now, let's try frequentist statistical testing. Would you use a one-sample or two-sample test? Why?\n",
    "    <li> In this situation, is it appropriate to use the $t$ or $z$ statistic? \n",
    "    <li> Now try using the other test. How is the result be different? Why?\n",
    "    </ul>\n",
    "<li>  Draw a small sample of size 10 from the data and repeat both frequentist tests. \n",
    "    <ul>\n",
    "    <li> Which one is the correct one to use? \n",
    "    <li> What do you notice? What does this tell you about the difference in application of the $t$ and $z$ statistic?\n",
    "    </ul>\n",
    "<li>  At what temperature should we consider someone's temperature to be \"abnormal\"?\n",
    "    <ul>\n",
    "    <li> As in the previous example, try calculating everything using the boostrap approach, as well as the frequentist approach.\n",
    "    <li> Start by computing the margin of error and confidence interval. When calculating the confidence interval, keep in mind that you should use the appropriate formula for one draw, and not N draws.\n",
    "    </ul>\n",
    "<li>  Is there a significant difference between males and females in normal temperature?\n",
    "    <ul>\n",
    "    <li> What testing approach did you use and why?\n",
    "    <li> Write a story with your conclusion in the context of the original problem.\n",
    "    </ul>\n",
    "</ol>\n",
    "\n",
    "You can include written notes in notebook cells using Markdown: \n",
    "   - In the control panel at the top, choose Cell > Cell Type > Markdown\n",
    "   - Markdown syntax: http://nestacms.com/docs/creating-content/markdown-cheat-sheet\n",
    "\n",
    "#### Resources\n",
    "\n",
    "+ Information and data sources: http://www.amstat.org/publications/jse/datasets/normtemp.txt, http://www.amstat.org/publications/jse/jse_data_archive.htm\n",
    "+ Markdown syntax: http://nestacms.com/docs/creating-content/markdown-cheat-sheet\n",
    "\n",
    "****"
   ]
  },
  {
   "cell_type": "code",
   "execution_count": 155,
   "metadata": {
    "scrolled": true
   },
   "outputs": [],
   "source": [
    "import pandas as pd\n",
    "import numpy as np\n",
    "import matplotlib.pyplot as plt\n",
    "from scipy import stats\n",
    "\n",
    "np.random.seed(3791)\n",
    "\n",
    "df = pd.read_csv('data/human_body_temperature.csv')"
   ]
  },
  {
   "cell_type": "code",
   "execution_count": 156,
   "metadata": {},
   "outputs": [],
   "source": [
    "#methods to use thoughout the exercise \n",
    "# From the datacamp statistical thinking in python exercises\n",
    "def ecdf(data):\n",
    "    n = len(data)\n",
    "    x = np.sort(data)\n",
    "    y = np.arange(1, n+1) / n\n",
    "    return x, y\n",
    "\n",
    "def draw_bs_reps(data, func, size=1):\n",
    "    bs_replicates = np.empty(size)\n",
    "    for i in range(size):\n",
    "        bs_replicates[i] = func(np.random.choice(data, size=len(data)))\n",
    "    return bs_replicates\n"
   ]
  },
  {
   "cell_type": "code",
   "execution_count": 157,
   "metadata": {},
   "outputs": [
    {
     "data": {
      "text/html": [
       "<div>\n",
       "<style scoped>\n",
       "    .dataframe tbody tr th:only-of-type {\n",
       "        vertical-align: middle;\n",
       "    }\n",
       "\n",
       "    .dataframe tbody tr th {\n",
       "        vertical-align: top;\n",
       "    }\n",
       "\n",
       "    .dataframe thead th {\n",
       "        text-align: right;\n",
       "    }\n",
       "</style>\n",
       "<table border=\"1\" class=\"dataframe\">\n",
       "  <thead>\n",
       "    <tr style=\"text-align: right;\">\n",
       "      <th></th>\n",
       "      <th>temperature</th>\n",
       "      <th>gender</th>\n",
       "      <th>heart_rate</th>\n",
       "    </tr>\n",
       "  </thead>\n",
       "  <tbody>\n",
       "    <tr>\n",
       "      <th>0</th>\n",
       "      <td>99.3</td>\n",
       "      <td>F</td>\n",
       "      <td>68.0</td>\n",
       "    </tr>\n",
       "    <tr>\n",
       "      <th>1</th>\n",
       "      <td>98.4</td>\n",
       "      <td>F</td>\n",
       "      <td>81.0</td>\n",
       "    </tr>\n",
       "    <tr>\n",
       "      <th>2</th>\n",
       "      <td>97.8</td>\n",
       "      <td>M</td>\n",
       "      <td>73.0</td>\n",
       "    </tr>\n",
       "    <tr>\n",
       "      <th>3</th>\n",
       "      <td>99.2</td>\n",
       "      <td>F</td>\n",
       "      <td>66.0</td>\n",
       "    </tr>\n",
       "    <tr>\n",
       "      <th>4</th>\n",
       "      <td>98.0</td>\n",
       "      <td>F</td>\n",
       "      <td>73.0</td>\n",
       "    </tr>\n",
       "  </tbody>\n",
       "</table>\n",
       "</div>"
      ],
      "text/plain": [
       "   temperature gender  heart_rate\n",
       "0         99.3      F        68.0\n",
       "1         98.4      F        81.0\n",
       "2         97.8      M        73.0\n",
       "3         99.2      F        66.0\n",
       "4         98.0      F        73.0"
      ]
     },
     "execution_count": 157,
     "metadata": {},
     "output_type": "execute_result"
    }
   ],
   "source": [
    "df.head()"
   ]
  },
  {
   "cell_type": "markdown",
   "metadata": {},
   "source": [
    "1. Is the distribution of body temperatures normal?"
   ]
  },
  {
   "cell_type": "code",
   "execution_count": 158,
   "metadata": {},
   "outputs": [
    {
     "name": "stdout",
     "output_type": "stream",
     "text": [
      "The mean of the samples is 98.249 degrees Fahrenheit\n",
      "The standard deviation of the sample is 0.730 degrees Fahrenheit\n"
     ]
    },
    {
     "data": {
      "image/png": "[encoded data removed]",
      "text/plain": [
       "<Figure size 432x288 with 1 Axes>"
      ]
     },
     "metadata": {},
     "output_type": "display_data"
    }
   ],
   "source": [
    "mean = np.mean(df['temperature'])\n",
    "std = np.std(df['temperature'])\n",
    "\n",
    "samples = np.random.normal(mean, std, 100000)\n",
    "\n",
    "plt.hist(samples, density = True, histtype='step', bins=100)\n",
    "plt.hist(df['temperature'], density = True, histtype='step', bins=15)\n",
    "\n",
    "print('The mean of the samples is {:.3f} degrees Fahrenheit'.format(mean))\n",
    "print('The standard deviation of the sample is {:.3f} degrees Fahrenheit'.format(std))"
   ]
  },
  {
   "cell_type": "code",
   "execution_count": 159,
   "metadata": {
    "scrolled": true
   },
   "outputs": [
    {
     "data": {
      "image/png": "[encoded data removed]",
      "text/plain": [
       "<Figure size 432x288 with 1 Axes>"
      ]
     },
     "metadata": {},
     "output_type": "display_data"
    },
    {
     "name": "stdout",
     "output_type": "stream",
     "text": [
      "The ECDF of the data aligns with a normal distribution\n",
      "From graphical analysis, the temperature data appears to be normal\n"
     ]
    }
   ],
   "source": [
    "x, y = ecdf(df['temperature'])\n",
    "x_sample, y_sample = ecdf(samples)\n",
    "\n",
    "plt.plot(x_sample, y_sample, marker= '.', linestyle='none')\n",
    "plt.plot(x,y,marker='.',linestyle='none')\n",
    "\n",
    "plt.xlabel('Temperature')\n",
    "plt.ylabel('Density')\n",
    "\n",
    "plt.show()\n",
    "\n",
    "print('The ECDF of the data aligns with a normal distribution')\n",
    "print('From graphical analysis, the temperature data appears to be normal')"
   ]
  },
  {
   "cell_type": "markdown",
   "metadata": {},
   "source": [
    "Yes, the distribution of the body temperatures is normal based on the histogram and the ecdf plots compared to a random sample of 100000 points from a normal distribution with the same mean and standard deviation of the data"
   ]
  },
  {
   "cell_type": "markdown",
   "metadata": {},
   "source": [
    "2. "
   ]
  },
  {
   "cell_type": "code",
   "execution_count": 160,
   "metadata": {},
   "outputs": [
    {
     "data": {
      "text/plain": [
       "130"
      ]
     },
     "execution_count": 160,
     "metadata": {},
     "output_type": "execute_result"
    }
   ],
   "source": [
    "# Is the sample size large? Are observations independent?\n",
    "len(df['temperature'])\n"
   ]
  },
  {
   "cell_type": "markdown",
   "metadata": {},
   "source": [
    "The number of samples is greater than 30, which conforms to the condition for sample size from the Central Limit Theory. With a global population of close to 8 billion, 130 people is much less that 10% of the total population. Therefore, we can assume that the data is independent. "
   ]
  },
  {
   "cell_type": "markdown",
   "metadata": {},
   "source": [
    "3. Conduct a bootstrap hypothesis test to see if the population mean is 98.6 degrees. \n",
    "\n",
    "The null hypothesis is H$_0$: $\\mu = 98.6 $ degrees F \n",
    "The alternative hypothesis is H$_1$: $\\mu \\neq 98.6$ degrees F"
   ]
  },
  {
   "cell_type": "code",
   "execution_count": 161,
   "metadata": {},
   "outputs": [
    {
     "name": "stdout",
     "output_type": "stream",
     "text": [
      "95% confidence interval = [98.12382692 98.37232692] degrees\n"
     ]
    },
    {
     "data": {
      "image/png": "[encoded data removed]",
      "text/plain": [
       "<Figure size 432x288 with 1 Axes>"
      ]
     },
     "metadata": {},
     "output_type": "display_data"
    },
    {
     "name": "stdout",
     "output_type": "stream",
     "text": [
      "p =  0.0\n"
     ]
    }
   ],
   "source": [
    "bs_replicates = draw_bs_reps(df['temperature'], np.mean, 10000)\n",
    "\n",
    "conf_int = np.percentile(bs_replicates, [2.5,97.5])\n",
    "\n",
    "print('95% confidence interval =', conf_int, 'degrees')\n",
    "\n",
    "# Plot the histogram of the replicates, the mean, and the 95% confidence interval\n",
    "plt.hist(bs_replicates, bins=50, normed=True)\n",
    "plt.axvline(np.mean(bs_replicates), color='k', linestyle='dashed', linewidth=1)\n",
    "plt.axvline(conf_int[0], color='k', linestyle='dashed', linewidth=1)\n",
    "plt.axvline(conf_int[1], color='k', linestyle='dashed', linewidth=1)\n",
    "\n",
    "plt.xlabel('Temperature')\n",
    "plt.ylabel('PDF')\n",
    "\n",
    "plt.show()\n",
    "\n",
    "\n",
    "temp_shifted = df['temperature'] + 98.6 - mean\n",
    "\n",
    "bs_replicates = draw_bs_reps(temp_shifted, np.mean, 10000)\n",
    "\n",
    "p = np.sum(bs_replicates <= np.mean(df['temperature'])) / 10000\n",
    "\n",
    "print('p = ', p)"
   ]
  },
  {
   "cell_type": "markdown",
   "metadata": {},
   "source": [
    "The p-value from the bootstrap hypothesis test is 0.0. Therefore, the null hypothesis should be rejected from these results."
   ]
  },
  {
   "cell_type": "markdown",
   "metadata": {},
   "source": [
    "Try the frequentist statistical testing to see if it agrees with the low p-value from the bootstrap test. \n",
    "\n",
    "The best choice is to use a one-sample test because there is only one sample mean with the given datda. The z statistic is the most reasonable choice in this situation. In this situation, we do not know what the standard deviation of the population as a whole is, so we should use the approximation $\\sigma = \\frac{s}{\\sqrt{n}}$. Because the sample size is greater than 30 the distribution of the sample mean can be assumed to be normal given the CLT, and the approximation is accurate enough that a z-score can be used. \n",
    "\n",
    "Once the z-score is calculated, the p value can be found using the percentage of the area under the normal distribution function to the left and to the right of the z-value. Because the normal distribution is symmetric, this is equivalent to the area under the normal distribution function to the left of the z-value times two. \n",
    "\n",
    "The p-value from the t-score can also be calculated in a similar fashion. "
   ]
  },
  {
   "cell_type": "code",
   "execution_count": 162,
   "metadata": {},
   "outputs": [
    {
     "name": "stdout",
     "output_type": "stream",
     "text": [
      "The test statistic is -5.47593 \n",
      "The p-value calculated from the z-score is 0.000000044\n",
      "The p-value calculated using t statistics is 0.000000219\n"
     ]
    }
   ],
   "source": [
    "test_score=(mean-98.6)/(std/np.sqrt(130))\n",
    "print('The test statistic is {:.5f} '.format(z_score))\n",
    "\n",
    "p_value=stats.norm.cdf(test_score)*2\n",
    "print('The p-value calculated from the z-score is {:.9f}'.format(p_value))\n",
    "\n",
    "p_value_t=stats.t.sf(abs(test_score),129)*2\n",
    "print('The p-value calculated using t statistics is {:.9f}'.format(p_value_t))"
   ]
  },
  {
   "cell_type": "markdown",
   "metadata": {},
   "source": [
    "The p-value from the z-score is approximately 4$\\times$10$^{-8}$. This is much smaller than a significance level of 0.05. Given the results of both this and the bootstrap test, the null hypothesis should be rejected. "
   ]
  },
  {
   "cell_type": "markdown",
   "metadata": {},
   "source": [
    "4. Drawing a small sample of size 10 from the data, repeat both of the freqentist tests:"
   ]
  },
  {
   "cell_type": "code",
   "execution_count": 163,
   "metadata": {},
   "outputs": [
    {
     "name": "stdout",
     "output_type": "stream",
     "text": [
      "The test statistic is -1.33156 \n",
      "The p-value calculated from the z-score is 0.183005111\n",
      "The p-value calculated using t statistics is 0.215743958\n"
     ]
    }
   ],
   "source": [
    "sample_ten = np.random.choice(df['temperature'],10)\n",
    "\n",
    "sample_ten_mean=np.mean(sample_ten)\n",
    "sample_ten_std=np.std(sample_ten)\n",
    "\n",
    "test_score_sample=(sample_ten_mean-98.6)/(sample_ten_std/np.sqrt(10))\n",
    "print('The test statistic is {:.5f} '.format(test_score_sample))\n",
    "\n",
    "p_value_sample=stats.norm.cdf(test_score_sample)*2\n",
    "print('The p-value calculated from the z-score is {:.9f}'.format(p_value_sample))\n",
    "\n",
    "p_value_tsample=stats.t.sf(abs(test_score_sample),9)*2\n",
    "print('The p-value calculated using t statistics is {:.9f}'.format(p_value_tsample))"
   ]
  },
  {
   "cell_type": "markdown",
   "metadata": {},
   "source": [
    "For a sample size of only 10, the t-test is more appropriate for this sample. We cannot assume that this sample distribution is normal. The t-score is larger than the z-score, demonstrating how the t-score takes into account the added uncertainty when the sample size is small enough that the distribution cannot be assumed to be normal."
   ]
  },
  {
   "cell_type": "markdown",
   "metadata": {},
   "source": [
    "5. The temperature could be said to be abnormal outside of the 95% confidence interval.\n",
    "\n",
    "Using the boostrap approach, the confidence interval as calculated in question 3 is give below."
   ]
  },
  {
   "cell_type": "code",
   "execution_count": 164,
   "metadata": {},
   "outputs": [
    {
     "name": "stdout",
     "output_type": "stream",
     "text": [
      "The 95% confidence interval is between 98.12000 and 98.37615 degrees\n"
     ]
    }
   ],
   "source": [
    "bs_replicates = draw_bs_reps(df['temperature'], np.mean, 10000)\n",
    "\n",
    "conf_int = np.percentile(bs_replicates, [2.5,97.5])\n",
    "\n",
    "print('The 95% confidence interval is between {:.5f} and {:.5f} degrees'.format(conf_int[0], conf_int[1]))"
   ]
  },
  {
   "cell_type": "markdown",
   "metadata": {},
   "source": [
    "The frequentist approach gives that the confidence interval of an approximately normal distribution is given by the mean of the sample plus or minus the z statist for 0.975 times the standard deviation of the sample."
   ]
  },
  {
   "cell_type": "code",
   "execution_count": 165,
   "metadata": {},
   "outputs": [
    {
     "name": "stdout",
     "output_type": "stream",
     "text": [
      "The 95% confidence interval is between 96.81776 and 99.68071 degrees\n"
     ]
    }
   ],
   "source": [
    "z=stats.norm.ppf(.975)\n",
    "err=z*std\n",
    "conf_int_freq=np.array([mean-err,mean+err])\n",
    "print('The 95% confidence interval is between {:.5f} and {:.5f} degrees'.format(conf_int_freq[0], conf_int_freq[1]))"
   ]
  },
  {
   "cell_type": "markdown",
   "metadata": {},
   "source": [
    "The range of normal temperatures is much greater when calculated with the frequentist approach than the bootstrap approach."
   ]
  },
  {
   "cell_type": "markdown",
   "metadata": {},
   "source": [
    "6. Test for a significant different between the temperatures of males and females. \n",
    "\n",
    "The frequentist hypothesis test for the difference of means would be a good choice for this test. The null hypothesis is that there is no difference between the mean temperatures for males and females. If both of the sample sizes are large enough to apply the CLT, then the mean and standard deviation of the difference of the distributions can be calculated and used to get the p-value for a difference larger than the calculated difference. "
   ]
  },
  {
   "cell_type": "code",
   "execution_count": 166,
   "metadata": {},
   "outputs": [
    {
     "name": "stdout",
     "output_type": "stream",
     "text": [
      "The sample size for male body temperatures is 65\n",
      "The sample size for female body temperatures is 65\n",
      "The mean difference in the distributions is -0.28923 and a standard deviation of 0.12558\n",
      "The p-value for the null hypothesis is 1.32172 which is less than 0.05. Therefore the null hypothesis can be rejected\n"
     ]
    }
   ],
   "source": [
    "temp_m=df[df.gender=='M']['temperature']\n",
    "temp_f=df[df.gender=='F']['temperature']\n",
    "print('The sample size for male body temperatures is {:.0f}'.format(len(temp_m)))\n",
    "print('The sample size for female body temperatures is {:.0f}'.format(len(temp_f)))\n",
    "\n",
    "mean_m=np.mean(temp_m)\n",
    "mean_f=np.mean(temp_f)\n",
    "std_m=np.std(temp_m)\n",
    "std_f=np.std(temp_f)\n",
    "mean_diff=mean_m-mean_f\n",
    "std_diff=np.sqrt((std_m**2/len(temp_m))+(std_f**2/len(temp_f)))\n",
    "print('The mean difference in the distributions is {:.5f} and a standard deviation of {:.5f}'.format(mean_diff, std_diff))\n",
    "\n",
    "p_diff=(1-stats.norm.cdf(mean_diff,std_diff))*2\n",
    "\n",
    "print('The p-value for the null hypothesis is {:.5f} which is less than 0.05. Therefore the null hypothesis can be rejected'.format(p_diff))"
   ]
  },
  {
   "cell_type": "markdown",
   "metadata": {},
   "source": [
    "Conclusion: Based on the bootstrap testing and the frequentist hypothesis testing, the commonly accepted fact that the average human body temperature is 98.6 degrees Fahrenheit can be solidly rejected. Given this analysis of 130 samples, the average body temperature is closer to 98.25 degrees Fahrenheit. The p-values producted by both bootstrap testing and frequentist testing suggest that the null hypothesis, that the average human body temperature is 98.6 degrees Fahrenheit, can be rejected. Additionally, the 95% confidence interval found using the bootstrap method is between 98.12 and 98.38 degrees, at least 0.2 degrees lower than the previously accepted value. Finally, there is evidence to suggest that there is a statistically significant difference in the average body temperatures of men and women. "
   ]
  }
 ],
 "metadata": {
  "kernelspec": {
   "display_name": "Python 3",
   "language": "python",
   "name": "python3"
  },
  "language_info": {
   "codemirror_mode": {
    "name": "ipython",
    "version": 3
   },
   "file_extension": ".py",
   "mimetype": "text/x-python",
   "name": "python",
   "nbconvert_exporter": "python",
   "pygments_lexer": "ipython3",
   "version": "3.5.5"
  }
 },
 "nbformat": 4,
 "nbformat_minor": 1
}
