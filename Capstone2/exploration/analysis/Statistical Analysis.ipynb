{
 "cells": [
  {
   "cell_type": "code",
   "execution_count": 1,
   "metadata": {},
   "outputs": [],
   "source": [
    "import pandas as pd\n",
    "import numpy as np\n",
    "import matplotlib.pyplot as plt\n",
    "import seaborn as sns \n",
    "from astropy.io import fits\n",
    "from astropy.table import Table\n",
    "from scipy.stats.stats import pearsonr\n",
    "from scipy import stats\n",
    "from collections import Counter\n"
   ]
  },
  {
   "cell_type": "code",
   "execution_count": 2,
   "metadata": {},
   "outputs": [
    {
     "data": {
      "text/html": [
       "<div>\n",
       "<style scoped>\n",
       "    .dataframe tbody tr th:only-of-type {\n",
       "        vertical-align: middle;\n",
       "    }\n",
       "\n",
       "    .dataframe tbody tr th {\n",
       "        vertical-align: top;\n",
       "    }\n",
       "\n",
       "    .dataframe thead th {\n",
       "        text-align: right;\n",
       "    }\n",
       "</style>\n",
       "<table border=\"1\" class=\"dataframe\">\n",
       "  <thead>\n",
       "    <tr style=\"text-align: right;\">\n",
       "      <th></th>\n",
       "      <th>Unnamed: 0</th>\n",
       "      <th>names</th>\n",
       "      <th>pictures</th>\n",
       "      <th>loc</th>\n",
       "      <th>time</th>\n",
       "      <th>style_0</th>\n",
       "      <th>style_1</th>\n",
       "      <th>style_2</th>\n",
       "      <th>tags_0</th>\n",
       "      <th>tags_1</th>\n",
       "      <th>tags_2</th>\n",
       "      <th>tags_3</th>\n",
       "      <th>tags_4</th>\n",
       "      <th>tags_5</th>\n",
       "      <th>tags_6</th>\n",
       "      <th>tags_7</th>\n",
       "      <th>tags_8</th>\n",
       "      <th>tags_9</th>\n",
       "    </tr>\n",
       "  </thead>\n",
       "  <tbody>\n",
       "    <tr>\n",
       "      <th>0</th>\n",
       "      <td>0</td>\n",
       "      <td>000ecstaSY000</td>\n",
       "      <td>75820.jpg</td>\n",
       "      <td>Surat, Gujarat</td>\n",
       "      <td>2011-07-09</td>\n",
       "      <td>romantic</td>\n",
       "      <td>fall</td>\n",
       "      <td>NaN</td>\n",
       "      <td>puple</td>\n",
       "      <td>boots</td>\n",
       "      <td>NaN</td>\n",
       "      <td>NaN</td>\n",
       "      <td>NaN</td>\n",
       "      <td>NaN</td>\n",
       "      <td>NaN</td>\n",
       "      <td>NaN</td>\n",
       "      <td>NaN</td>\n",
       "      <td>NaN</td>\n",
       "    </tr>\n",
       "    <tr>\n",
       "      <th>1</th>\n",
       "      <td>1</td>\n",
       "      <td>000ecstaSY000</td>\n",
       "      <td>75818.jpg</td>\n",
       "      <td>Surat, Gujarat</td>\n",
       "      <td>2012-08-04</td>\n",
       "      <td>chic</td>\n",
       "      <td>beach</td>\n",
       "      <td>summer</td>\n",
       "      <td>maroon</td>\n",
       "      <td>bracelet</td>\n",
       "      <td>NaN</td>\n",
       "      <td>NaN</td>\n",
       "      <td>NaN</td>\n",
       "      <td>NaN</td>\n",
       "      <td>NaN</td>\n",
       "      <td>NaN</td>\n",
       "      <td>NaN</td>\n",
       "      <td>NaN</td>\n",
       "    </tr>\n",
       "    <tr>\n",
       "      <th>2</th>\n",
       "      <td>2</td>\n",
       "      <td>0011zm</td>\n",
       "      <td>129462.jpg</td>\n",
       "      <td>Ontario, Ontario</td>\n",
       "      <td>2013-04-15</td>\n",
       "      <td>urban</td>\n",
       "      <td>spring</td>\n",
       "      <td>NaN</td>\n",
       "      <td>boots</td>\n",
       "      <td>jacket</td>\n",
       "      <td>leggings</td>\n",
       "      <td>shirt</td>\n",
       "      <td>NaN</td>\n",
       "      <td>NaN</td>\n",
       "      <td>NaN</td>\n",
       "      <td>NaN</td>\n",
       "      <td>NaN</td>\n",
       "      <td>NaN</td>\n",
       "    </tr>\n",
       "    <tr>\n",
       "      <th>3</th>\n",
       "      <td>3</td>\n",
       "      <td>0011zm</td>\n",
       "      <td>129468.jpg</td>\n",
       "      <td>Ontario, Ontario</td>\n",
       "      <td>2010-04-22</td>\n",
       "      <td>vintage</td>\n",
       "      <td>spring</td>\n",
       "      <td>NaN</td>\n",
       "      <td>hat</td>\n",
       "      <td>bag</td>\n",
       "      <td>NaN</td>\n",
       "      <td>NaN</td>\n",
       "      <td>NaN</td>\n",
       "      <td>NaN</td>\n",
       "      <td>NaN</td>\n",
       "      <td>NaN</td>\n",
       "      <td>NaN</td>\n",
       "      <td>NaN</td>\n",
       "    </tr>\n",
       "    <tr>\n",
       "      <th>4</th>\n",
       "      <td>4</td>\n",
       "      <td>0011zm</td>\n",
       "      <td>129454.jpg</td>\n",
       "      <td>Ontario, Ontario</td>\n",
       "      <td>2014-07-30</td>\n",
       "      <td>leather</td>\n",
       "      <td>other</td>\n",
       "      <td>summer</td>\n",
       "      <td>shirt</td>\n",
       "      <td>bra</td>\n",
       "      <td>pants</td>\n",
       "      <td>NaN</td>\n",
       "      <td>NaN</td>\n",
       "      <td>NaN</td>\n",
       "      <td>NaN</td>\n",
       "      <td>NaN</td>\n",
       "      <td>NaN</td>\n",
       "      <td>NaN</td>\n",
       "    </tr>\n",
       "  </tbody>\n",
       "</table>\n",
       "</div>"
      ],
      "text/plain": [
       "   Unnamed: 0          names    pictures               loc        time  \\\n",
       "0           0  000ecstaSY000   75820.jpg    Surat, Gujarat  2011-07-09   \n",
       "1           1  000ecstaSY000   75818.jpg    Surat, Gujarat  2012-08-04   \n",
       "2           2         0011zm  129462.jpg  Ontario, Ontario  2013-04-15   \n",
       "3           3         0011zm  129468.jpg  Ontario, Ontario  2010-04-22   \n",
       "4           4         0011zm  129454.jpg  Ontario, Ontario  2014-07-30   \n",
       "\n",
       "    style_0 style_1 style_2  tags_0    tags_1    tags_2 tags_3 tags_4 tags_5  \\\n",
       "0  romantic    fall     NaN   puple     boots       NaN    NaN    NaN    NaN   \n",
       "1      chic   beach  summer  maroon  bracelet       NaN    NaN    NaN    NaN   \n",
       "2     urban  spring     NaN   boots    jacket  leggings  shirt    NaN    NaN   \n",
       "3   vintage  spring     NaN     hat       bag       NaN    NaN    NaN    NaN   \n",
       "4   leather   other  summer   shirt       bra     pants    NaN    NaN    NaN   \n",
       "\n",
       "  tags_6 tags_7 tags_8 tags_9  \n",
       "0    NaN    NaN    NaN    NaN  \n",
       "1    NaN    NaN    NaN    NaN  \n",
       "2    NaN    NaN    NaN    NaN  \n",
       "3    NaN    NaN    NaN    NaN  \n",
       "4    NaN    NaN    NaN    NaN  "
      ]
     },
     "execution_count": 2,
     "metadata": {},
     "output_type": "execute_result"
    }
   ],
   "source": [
    "df = pd.read_csv('../data/data_clean.csv')\n",
    "df.head()"
   ]
  },
  {
   "cell_type": "code",
   "execution_count": null,
   "metadata": {},
   "outputs": [],
   "source": [
    "#make chart - summer and winter vs sunglasses and parka"
   ]
  },
  {
   "cell_type": "code",
   "execution_count": null,
   "metadata": {},
   "outputs": [],
   "source": [
    "#count summer, winter, sunglasses, parka"
   ]
  },
  {
   "cell_type": "code",
   "execution_count": 4,
   "metadata": {},
   "outputs": [],
   "source": [
    "styleWords = ' '\n",
    "for index, row in df.iterrows():\n",
    "    word0 = row['style_0']\n",
    "    if (word0 != None) and ('nan' not in str(word0)):\n",
    "        styleWords = styleWords + str(word0) + ' '\n",
    "    word1 = row['style_1']\n",
    "    if (word1 != None) and ('nan' not in str(word1)):\n",
    "        styleWords = styleWords + str(word1) + ' '\n",
    "    word2 = row['style_2']\n",
    "    if (word2 != None) and ('nan' not in str(word2)):\n",
    "        styleWords = styleWords + str(word2) + ' '\n",
    "        \n",
    "tagWords = ' '\n",
    "for index, row in df.iterrows():\n",
    "    word0 = row['tags_0']\n",
    "    if (word0 != None) & ('nan' not in str(word0)):\n",
    "        tagWords = tagWords + str(word0) + ' '\n",
    "    word1 = row['tags_1']\n",
    "    if (word1 != None) & ('nan' not in str(word1)):\n",
    "        tagWords = tagWords + str(word1) + ' '\n",
    "    word2 = row['tags_2']\n",
    "    if (word2 != None) & ('nan' not in str(word2)):\n",
    "        tagWords = tagWords + str(word2) + ' '"
   ]
  },
  {
   "cell_type": "code",
   "execution_count": 15,
   "metadata": {},
   "outputs": [
    {
     "name": "stdout",
     "output_type": "stream",
     "text": [
      "Number of 'summer'103818\n",
      "Number of 'winter'34317\n",
      "Number of 'shorts'12638\n",
      "Number of 'coats'12126\n"
     ]
    }
   ],
   "source": [
    "styleCountsTotal = dict(Counter(styleWords.split()))\n",
    "tagCountsTotal = dict(Counter(tagWords.split()))\n",
    "\n",
    "print(\"Number of 'summer'\" + str(styleCountsTotal['summer']))\n",
    "print(\"Number of 'winter'\" + str(styleCountsTotal['winter']))\n",
    "print(\"Number of 'shorts'\" + str(tagCountsTotal['shorts']))\n",
    "print(\"Number of 'coats'\" + str(tagCountsTotal['coat']))\n",
    "\n",
    "summerTot = styleCountsTotal['summer']\n",
    "winterTot = styleCountsTotal['winter']\n",
    "shortsTot = tagCountsTotal['shorts']\n",
    "coatsTot = tagCountsTotal['coat']"
   ]
  },
  {
   "cell_type": "code",
   "execution_count": 11,
   "metadata": {},
   "outputs": [],
   "source": [
    "summerShorts = 0\n",
    "summerCoats = 0\n",
    "winterShorts = 0\n",
    "winterCoats = 0\n",
    "\n",
    "for index, row in df.iterrows():\n",
    "    style0 = row['style_0']\n",
    "    style1 = row['style_1']\n",
    "    style2 = row['style_2']\n",
    "    tag0 = row['tags_0']\n",
    "    tag1 = row['tags_1']\n",
    "    tag2 = row['tags_2']\n",
    "    if ('summer' in str(style0)) or ('summer' in str(style1)) or ('summer' in str(style2)):\n",
    "        if ('shorts' in str(tag0)) or ('shorts' in str(tag1)) or ('shorts' in str(tag2)):\n",
    "            summerShorts += 1                                                         \n",
    "        if ('coat' in str(tag0)) or ('coat' in str(tag1)) or ('coat' in str(tag2)):\n",
    "            summerCoats += 1\n",
    "    if ('winter' in str(style0)) or ('winter' in str(style1)) or ('winter' in str(style2)):\n",
    "        if ('shorts' in str(tag0)) or ('shorts' in str(tag1)) or ('shorts' in str(tag2)):\n",
    "            winterShorts += 1                                                         \n",
    "        if ('coat' in str(tag0)) or ('coat' in str(tag1)) or ('coat' in str(tag2)):\n",
    "            winterCoats += 1"
   ]
  },
  {
   "cell_type": "code",
   "execution_count": 16,
   "metadata": {},
   "outputs": [
    {
     "name": "stdout",
     "output_type": "stream",
     "text": [
      "Percent summer and shorts 0.07253077501011386\n",
      "Percent summer and coats 0.012955364195033616\n",
      "Percent winter and shorts 0.011044088935513011\n",
      "Percent winter and coats 0.13162572485939913\n"
     ]
    }
   ],
   "source": [
    "print('Percent summer and shorts ' + str(summerShorts/summerTot))\n",
    "print('Percent summer and coats ' + str(summerCoats/summerTot))\n",
    "print('Percent winter and shorts ' + str(winterShorts/winterTot))\n",
    "print('Percent winter and coats ' + str(winterCoats/winterTot))"
   ]
  },
  {
   "cell_type": "code",
   "execution_count": 5,
   "metadata": {},
   "outputs": [],
   "source": [
    "#Null hypothesis: shorts and coats tags don't correlate to summer and winter styles\n",
    "#compare summer shorts and winter shorts\n",
    "#compare summer coats and winter coats"
   ]
  },
  {
   "cell_type": "code",
   "execution_count": 22,
   "metadata": {},
   "outputs": [
    {
     "data": {
      "text/plain": [
       "0.05725558330618598"
      ]
     },
     "execution_count": 22,
     "metadata": {},
     "output_type": "execute_result"
    }
   ],
   "source": [
    "#expected summer shorts and winter shorts\n",
    "percentExpectedShorts = (summerShorts+winterShorts)/(summerTot+winterTot)\n",
    "percentExpectedShorts"
   ]
  },
  {
   "cell_type": "code",
   "execution_count": 23,
   "metadata": {},
   "outputs": [],
   "source": [
    "summerShortsExpect =  summerTot * percentExpectedShorts\n",
    "winterShortsExpect =  winterTot * percentExpectedShorts\n",
    "summerNotShortsExpect = summerTot * (1 - percentExpectedShorts)\n",
    "winterNotShortsExpect = winterTot * (1 - percentExpectedShorts)"
   ]
  },
  {
   "cell_type": "code",
   "execution_count": 24,
   "metadata": {},
   "outputs": [
    {
     "data": {
      "text/plain": [
       "423.08551161463396"
      ]
     },
     "execution_count": 24,
     "metadata": {},
     "output_type": "execute_result"
    }
   ],
   "source": [
    "chi2 = (((summerShorts - summerShortsExpect)**2)/summerShortsExpect)\n",
    "+ (((winterShorts - winterShortsExpect)**2)/winterShortsExpect)\n",
    "+ ((((summerTot - summerShorts) - summerNotShortsExpect)**2)/summerNotShortsExpect)\n",
    "+ ((((winterTot - winterShorts) - winterNotShortsExpect)**2)/winterNotShortsExpect)\n",
    "chi2"
   ]
  },
  {
   "cell_type": "code",
   "execution_count": 25,
   "metadata": {},
   "outputs": [
    {
     "name": "stdout",
     "output_type": "stream",
     "text": [
      "For a chi^2 of 423 and one degree of freedom, the p value is much less than 0.001.\n",
      "Therefore the null hypothesis can be rejected\n"
     ]
    }
   ],
   "source": [
    "print('For a chi^2 of 423 and one degree of freedom, the p value is much less than 0.001.')\n",
    "print('Therefore the null hypothesis can be rejected')"
   ]
  },
  {
   "cell_type": "code",
   "execution_count": 27,
   "metadata": {},
   "outputs": [
    {
     "data": {
      "text/plain": [
       "0.042436746660875234"
      ]
     },
     "execution_count": 27,
     "metadata": {},
     "output_type": "execute_result"
    }
   ],
   "source": [
    "#repeat for coats\n",
    "percentExpectedCoats = (summerCoats+winterCoats)/(summerTot+winterTot)\n",
    "percentExpectedCoats"
   ]
  },
  {
   "cell_type": "code",
   "execution_count": 28,
   "metadata": {},
   "outputs": [],
   "source": [
    "summerCoatsExpect =  summerTot * percentExpectedCoats\n",
    "winterCoatsExpect =  winterTot * percentExpectedCoats\n",
    "summerNotCoatsExpect = summerTot * (1 - percentExpectedCoats)\n",
    "winterNotCoatsExpect = winterTot * (1 - percentExpectedCoats)"
   ]
  },
  {
   "cell_type": "code",
   "execution_count": 29,
   "metadata": {},
   "outputs": [
    {
     "data": {
      "text/plain": [
       "2126.308454585232"
      ]
     },
     "execution_count": 29,
     "metadata": {},
     "output_type": "execute_result"
    }
   ],
   "source": [
    "chi2 = (((summerCoats - summerCoatsExpect)**2)/summerCoatsExpect)\n",
    "+ (((winterCoats - winterCoatsExpect)**2)/winterCoatsExpect)\n",
    "+ ((((summerTot - summerCoats) - summerNotCoatsExpect)**2)/summerNotCoatsExpect)\n",
    "+ ((((winterTot - winterCoats) - winterNotCoatsExpect)**2)/winterNotCoatsExpect)\n",
    "chi2"
   ]
  },
  {
   "cell_type": "code",
   "execution_count": 30,
   "metadata": {},
   "outputs": [
    {
     "name": "stdout",
     "output_type": "stream",
     "text": [
      "For a chi^2 of 2126 and one degree of freedom, the p value is much less than 0.001.\n",
      "Therefore the null hypothesis can be rejected\n"
     ]
    }
   ],
   "source": [
    "print('For a chi^2 of 2126 and one degree of freedom, the p value is much less than 0.001.')\n",
    "print('Therefore the null hypothesis can be rejected')"
   ]
  },
  {
   "cell_type": "code",
   "execution_count": null,
   "metadata": {},
   "outputs": [],
   "source": []
  },
  {
   "cell_type": "code",
   "execution_count": null,
   "metadata": {},
   "outputs": [],
   "source": []
  }
 ],
 "metadata": {
  "kernelspec": {
   "display_name": "Python 3",
   "language": "python",
   "name": "python3"
  },
  "language_info": {
   "codemirror_mode": {
    "name": "ipython",
    "version": 3
   },
   "file_extension": ".py",
   "mimetype": "text/x-python",
   "name": "python",
   "nbconvert_exporter": "python",
   "pygments_lexer": "ipython3",
   "version": "3.5.5"
  }
 },
 "nbformat": 4,
 "nbformat_minor": 2
}
